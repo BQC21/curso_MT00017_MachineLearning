{
 "cells": [
  {
   "cell_type": "markdown",
   "metadata": {
    "id": "E1ujsya-zLH_"
   },
   "source": [
    "# Obtención de una matriz de confusión desde una base de datos"
   ]
  },
  {
   "cell_type": "markdown",
   "metadata": {},
   "source": [
    "Paso 0: importamos las librerías a utilizar"
   ]
  },
  {
   "cell_type": "code",
   "execution_count": null,
   "metadata": {},
   "outputs": [],
   "source": [
    "import numpy as np\n",
    "import matplotlib.pyplot as plt\n",
    "from sklearn.datasets import fetch_openml"
   ]
  },
  {
   "cell_type": "markdown",
   "metadata": {
    "id": "2lmzIlPz-NbR"
   },
   "source": [
    "Paso 1: extraemos la data "
   ]
  },
  {
   "cell_type": "code",
   "execution_count": 3,
   "metadata": {
    "colab": {
     "base_uri": "https://localhost:8080/"
    },
    "id": "Zl9V97eSzQZP",
    "outputId": "27d6e082-e9a1-481d-8240-ce0e6f72175c"
   },
   "outputs": [],
   "source": [
    "mnist = fetch_openml(\"mnist_784\")"
   ]
  },
  {
   "cell_type": "code",
   "execution_count": 3,
   "metadata": {
    "colab": {
     "base_uri": "https://localhost:8080/"
    },
    "id": "y8Gl_eIKzVC8",
    "outputId": "008bc582-fee4-4ef9-e49d-083d226c864a"
   },
   "outputs": [
    {
     "name": "stdout",
     "output_type": "stream",
     "text": [
      "las dimensiones de la data son: (70000, 784)\n",
      "las dimensiones del target son: (70000,)\n"
     ]
    }
   ],
   "source": [
    "print(f\"las dimensiones de la data son: {mnist['data'].shape}\")\n",
    "print(f\"las dimensiones del target son: {mnist['target'].shape}\")"
   ]
  },
  {
   "cell_type": "markdown",
   "metadata": {
    "id": "nAwYCnDa-Y7m"
   },
   "source": [
    "Paso 2: extraemos los datos de entrenamiento y validación"
   ]
  },
  {
   "cell_type": "code",
   "execution_count": 4,
   "metadata": {
    "id": "XtsEq0TnzkCt"
   },
   "outputs": [],
   "source": [
    "from sklearn.model_selection import train_test_split\n",
    "train_img, test_img, train_lbl, test_lbl = train_test_split(mnist['data'], mnist['target'], test_size=0.2, random_state=0)"
   ]
  },
  {
   "cell_type": "code",
   "execution_count": 5,
   "metadata": {
    "colab": {
     "base_uri": "https://localhost:8080/"
    },
    "id": "6yUM721Hzm4G",
    "outputId": "f5bd2c86-ede3-4c35-e192-504c5303ba29"
   },
   "outputs": [
    {
     "name": "stdout",
     "output_type": "stream",
     "text": [
      "las dimensiones de train_img: (56000, 784)\n",
      "las dimensiones de test_img: (14000, 784)\n",
      "las dimensiones de train_lbl: (56000,)\n",
      "las dimensiones de test_lbl: (14000,)\n"
     ]
    }
   ],
   "source": [
    "print(f\"las dimensiones de train_img: {train_img.shape}\")\n",
    "print(f\"las dimensiones de test_img: {test_img.shape}\")\n",
    "print(f\"las dimensiones de train_lbl: {train_lbl.shape}\")\n",
    "print(f\"las dimensiones de test_lbl: {test_lbl.shape}\")"
   ]
  },
  {
   "cell_type": "markdown",
   "metadata": {
    "id": "JTwaQsOg-moO"
   },
   "source": [
    "Paso 3: entrenamos el modelo de regresión logística"
   ]
  },
  {
   "cell_type": "code",
   "execution_count": 6,
   "metadata": {
    "id": "TT-6c5KozpKA"
   },
   "outputs": [],
   "source": [
    "from sklearn.linear_model import LogisticRegression"
   ]
  },
  {
   "cell_type": "code",
   "execution_count": 18,
   "metadata": {
    "id": "v8tNjYyEzrnw"
   },
   "outputs": [],
   "source": [
    "model = LogisticRegression(solver='lbfgs', max_iter=1000)"
   ]
  },
  {
   "cell_type": "code",
   "execution_count": 19,
   "metadata": {
    "colab": {
     "base_uri": "https://localhost:8080/"
    },
    "id": "vYPe-u1JztHR",
    "outputId": "a07e73b2-71d3-4951-a059-28b348a5feb0"
   },
   "outputs": [
    {
     "name": "stderr",
     "output_type": "stream",
     "text": [
      "/usr/local/lib/python3.7/dist-packages/sklearn/linear_model/_logistic.py:940: ConvergenceWarning: lbfgs failed to converge (status=1):\n",
      "STOP: TOTAL NO. of ITERATIONS REACHED LIMIT.\n",
      "\n",
      "Increase the number of iterations (max_iter) or scale the data as shown in:\n",
      "    https://scikit-learn.org/stable/modules/preprocessing.html\n",
      "Please also refer to the documentation for alternative solver options:\n",
      "    https://scikit-learn.org/stable/modules/linear_model.html#logistic-regression\n",
      "  extra_warning_msg=_LOGISTIC_SOLVER_CONVERGENCE_MSG)\n"
     ]
    },
    {
     "data": {
      "text/plain": [
       "LogisticRegression(C=1.0, class_weight=None, dual=False, fit_intercept=True,\n",
       "                   intercept_scaling=1, l1_ratio=None, max_iter=1000,\n",
       "                   multi_class='auto', n_jobs=None, penalty='l2',\n",
       "                   random_state=None, solver='lbfgs', tol=0.0001, verbose=0,\n",
       "                   warm_start=False)"
      ]
     },
     "execution_count": 19,
     "metadata": {},
     "output_type": "execute_result"
    }
   ],
   "source": [
    "model.fit(train_img, train_lbl)"
   ]
  },
  {
   "cell_type": "code",
   "execution_count": 20,
   "metadata": {
    "colab": {
     "base_uri": "https://localhost:8080/"
    },
    "id": "kKHyMQQvz4Vb",
    "outputId": "ec6b1138-00bf-434e-e1e3-dd481c19d497"
   },
   "outputs": [
    {
     "data": {
      "text/plain": [
       "(10, 784)"
      ]
     },
     "execution_count": 20,
     "metadata": {},
     "output_type": "execute_result"
    }
   ],
   "source": [
    "model.coef_.shape #10 clases de 784 valores"
   ]
  },
  {
   "cell_type": "code",
   "execution_count": 21,
   "metadata": {
    "colab": {
     "base_uri": "https://localhost:8080/"
    },
    "id": "shu1qVIQ3pXa",
    "outputId": "c50754c3-5ef9-4039-f740-e12247649f00"
   },
   "outputs": [
    {
     "data": {
      "text/plain": [
       "(10,)"
      ]
     },
     "execution_count": 21,
     "metadata": {},
     "output_type": "execute_result"
    }
   ],
   "source": [
    "model.intercept_.shape #sacamos el Bias"
   ]
  },
  {
   "cell_type": "markdown",
   "metadata": {
    "id": "pM8L6rM9-w7s"
   },
   "source": [
    "Paso 4: predecimos el modelo"
   ]
  },
  {
   "cell_type": "code",
   "execution_count": 68,
   "metadata": {
    "colab": {
     "base_uri": "https://localhost:8080/"
    },
    "id": "1wTygNNT_J8w",
    "outputId": "b9fa4779-d8a3-4ac5-c4bc-59cda73f9e98"
   },
   "outputs": [
    {
     "name": "stdout",
     "output_type": "stream",
     "text": [
      "los 20 primeros valores del test_img:['0' '4' '1' '2' '4' '9' '7' '1' '1' '3' '1' '3' '4' '2' '6' '4' '6' '7'\n",
      " '9' '3']\n",
      "los 20 primeros valores del test_lbl:['0' '4' '1' '2' '7' '9' '7' '1' '1' '7' '1' '3' '4' '2' '6' '4' '6' '7'\n",
      " '3' '3']\n"
     ]
    }
   ],
   "source": [
    "print(f\"los 20 primeros valores del test_img:{model.predict(test_img[:20])}\") \n",
    "print(f\"los 20 primeros valores del test_lbl:{(test_lbl[:20])}\") "
   ]
  },
  {
   "cell_type": "markdown",
   "metadata": {
    "id": "G1WOD0r2DTwN"
   },
   "source": [
    "Paso 5: calculamos la precisión del modelo"
   ]
  },
  {
   "cell_type": "code",
   "execution_count": 71,
   "metadata": {
    "colab": {
     "base_uri": "https://localhost:8080/"
    },
    "id": "w7X5K0ygC9xl",
    "outputId": "cd665c64-37e2-4f52-c40c-a3b78a3b8b41"
   },
   "outputs": [
    {
     "name": "stdout",
     "output_type": "stream",
     "text": [
      "la prediccion tiene un porcentaje del: 91.11%\n"
     ]
    }
   ],
   "source": [
    "score = model.score(test_img, test_lbl) \n",
    "print(\"la prediccion tiene un porcentaje del: {}%\".format(np.round(score*100,2)))"
   ]
  },
  {
   "cell_type": "markdown",
   "metadata": {
    "id": "emEfCGESDxFN"
   },
   "source": [
    "Paso 6: determinamos la matriz de confusión"
   ]
  },
  {
   "cell_type": "code",
   "execution_count": 72,
   "metadata": {
    "id": "bTY6r8KJDcEA"
   },
   "outputs": [],
   "source": [
    "from sklearn.metrics import confusion_matrix "
   ]
  },
  {
   "cell_type": "code",
   "execution_count": 75,
   "metadata": {
    "colab": {
     "base_uri": "https://localhost:8080/"
    },
    "id": "_dz3TrRmD1zb",
    "outputId": "dc168cee-bad9-4a23-bcca-dc1a44e56d66"
   },
   "outputs": [
    {
     "name": "stdout",
     "output_type": "stream",
     "text": [
      "[[1339    0    7    1    2   12   15    4    5    2]\n",
      " [   0 1533    7    6    2    5    2    5   18    2]\n",
      " [  11   19 1283   23   20    5   19   16   43    4]\n",
      " [   3    5   49 1262    1   46    1   13   40   15]\n",
      " [   2    3    6    5 1244    5   17   13    8   47]\n",
      " [  15    7   18   44   10 1049   25    4   45   14]\n",
      " [  19    5   14    3   17   20 1300    1    7    1]\n",
      " [   4    6   21    9   11    3    1 1330   11   62]\n",
      " [   5   26   11   32    9   42   16    4 1206   17]\n",
      " [   5    5    7   16   49    9    1   43   17 1209]]\n"
     ]
    }
   ],
   "source": [
    "y_pred = model.predict(test_img) #salida de prediccion\n",
    "\n",
    "#matriz de confusion\n",
    "cm = confusion_matrix(test_lbl, y_pred) \n",
    "print(cm)"
   ]
  },
  {
   "cell_type": "code",
   "execution_count": 77,
   "metadata": {
    "id": "dxqtbrl_ENMI"
   },
   "outputs": [],
   "source": [
    "import seaborn as sns"
   ]
  },
  {
   "cell_type": "code",
   "execution_count": 79,
   "metadata": {
    "colab": {
     "base_uri": "https://localhost:8080/",
     "height": 852
    },
    "id": "FFkiZzAlETBg",
    "outputId": "465f491d-11fb-48b0-e9e8-fed1f74f1c89"
   },
   "outputs": [
    {
     "data": {
      "image/png": "[encoded data removed]",
      "text/plain": [
       "<Figure size 1080x1080 with 2 Axes>"
      ]
     },
     "metadata": {
      "needs_background": "light"
     },
     "output_type": "display_data"
    }
   ],
   "source": [
    "plt.figure(figsize=(15,15)) #tamaño de la figura\n",
    "sns.heatmap(cm, annot=True, linewidths=.5, square = True, cmap = 'Blues_r'); #mostrar mapa de calor de cm\n",
    "plt.ylabel('Actual label', size = 15)\n",
    "plt.xlabel('Predicted label', size = 15)\n",
    "plt.title(f'Accuracy Score: {np.round(100*score,1)}%', size = 15)\n",
    "plt.show()"
   ]
  }
 ],
 "metadata": {
  "colab": {
   "name": "Tarea_semana3_MT0017.ipynb",
   "provenance": []
  },
  "kernelspec": {
   "display_name": "Python 3",
   "language": "python",
   "name": "python3"
  },
  "language_info": {
   "codemirror_mode": {
    "name": "ipython",
    "version": 3
   },
   "file_extension": ".py",
   "mimetype": "text/x-python",
   "name": "python",
   "nbconvert_exporter": "python",
   "pygments_lexer": "ipython3",
   "version": "3.8.3"
  }
 },
 "nbformat": 4,
 "nbformat_minor": 1
}
